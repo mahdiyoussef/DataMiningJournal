{
 "cells": [
  {
   "cell_type": "code",
   "execution_count": 45,
   "id": "bfc038e0",
   "metadata": {},
   "outputs": [],
   "source": [
    "import numpy as np\n",
    "import matplotlib.pyplot as plt\n",
    "import sklearn as sk\n",
    "import pandas as pd"
   ]
  },
  {
   "cell_type": "code",
   "execution_count": 46,
   "id": "958f3738",
   "metadata": {},
   "outputs": [],
   "source": [
    "dataset=pd.read_csv('Thursday-WorkingHours-Morning-WebAttacks.pcap_ISCX.csv')"
   ]
  },
  {
   "cell_type": "code",
   "execution_count": 47,
   "id": "4a72a22c",
   "metadata": {},
   "outputs": [
    {
     "data": {
      "text/plain": [
       "Index([' Destination Port', ' Flow Duration', ' Total Fwd Packets',\n",
       "       ' Total Backward Packets', 'Total Length of Fwd Packets',\n",
       "       ' Total Length of Bwd Packets', ' Fwd Packet Length Max',\n",
       "       ' Fwd Packet Length Min', ' Fwd Packet Length Mean',\n",
       "       ' Fwd Packet Length Std', 'Bwd Packet Length Max',\n",
       "       ' Bwd Packet Length Min', ' Bwd Packet Length Mean',\n",
       "       ' Bwd Packet Length Std', 'Flow Bytes/s', ' Flow Packets/s',\n",
       "       ' Flow IAT Mean', ' Flow IAT Std', ' Flow IAT Max', ' Flow IAT Min',\n",
       "       'Fwd IAT Total', ' Fwd IAT Mean', ' Fwd IAT Std', ' Fwd IAT Max',\n",
       "       ' Fwd IAT Min', 'Bwd IAT Total', ' Bwd IAT Mean', ' Bwd IAT Std',\n",
       "       ' Bwd IAT Max', ' Bwd IAT Min', 'Fwd PSH Flags', ' Bwd PSH Flags',\n",
       "       ' Fwd URG Flags', ' Bwd URG Flags', ' Fwd Header Length',\n",
       "       ' Bwd Header Length', 'Fwd Packets/s', ' Bwd Packets/s',\n",
       "       ' Min Packet Length', ' Max Packet Length', ' Packet Length Mean',\n",
       "       ' Packet Length Std', ' Packet Length Variance', 'FIN Flag Count',\n",
       "       ' SYN Flag Count', ' RST Flag Count', ' PSH Flag Count',\n",
       "       ' ACK Flag Count', ' URG Flag Count', ' CWE Flag Count',\n",
       "       ' ECE Flag Count', ' Down/Up Ratio', ' Average Packet Size',\n",
       "       ' Avg Fwd Segment Size', ' Avg Bwd Segment Size',\n",
       "       ' Fwd Header Length.1', 'Fwd Avg Bytes/Bulk', ' Fwd Avg Packets/Bulk',\n",
       "       ' Fwd Avg Bulk Rate', ' Bwd Avg Bytes/Bulk', ' Bwd Avg Packets/Bulk',\n",
       "       'Bwd Avg Bulk Rate', 'Subflow Fwd Packets', ' Subflow Fwd Bytes',\n",
       "       ' Subflow Bwd Packets', ' Subflow Bwd Bytes', 'Init_Win_bytes_forward',\n",
       "       ' Init_Win_bytes_backward', ' act_data_pkt_fwd',\n",
       "       ' min_seg_size_forward', 'Active Mean', ' Active Std', ' Active Max',\n",
       "       ' Active Min', 'Idle Mean', ' Idle Std', ' Idle Max', ' Idle Min',\n",
       "       ' Label'],\n",
       "      dtype='object')"
      ]
     },
     "execution_count": 47,
     "metadata": {},
     "output_type": "execute_result"
    }
   ],
   "source": [
    "columns=dataset.columns\n",
    "columns"
   ]
  },
  {
   "cell_type": "code",
   "execution_count": 48,
   "id": "204e58cf",
   "metadata": {},
   "outputs": [],
   "source": [
    "x,y=dataset[[' Destination Port', ' Flow Duration', ' Total Fwd Packets',\n",
    "       ' Total Backward Packets', 'Total Length of Fwd Packets',\n",
    "       ' Total Length of Bwd Packets', ' Fwd Packet Length Max',\n",
    "       ' Fwd Packet Length Min', ' Fwd Packet Length Mean',\n",
    "       ' Fwd Packet Length Std', 'Bwd Packet Length Max',]],dataset[columns[-1]]"
   ]
  },
  {
   "cell_type": "code",
   "execution_count": 49,
   "id": "38c0372a",
   "metadata": {},
   "outputs": [],
   "source": [
    "from sklearn.preprocessing import MinMaxScaler"
   ]
  },
  {
   "cell_type": "code",
   "execution_count": 50,
   "id": "aa72d369",
   "metadata": {},
   "outputs": [],
   "source": [
    "mms=MinMaxScaler()\n",
    "x_scaled=mms.fit_transform(x)"
   ]
  },
  {
   "cell_type": "code",
   "execution_count": 51,
   "id": "cdf3c2aa",
   "metadata": {},
   "outputs": [],
   "source": [
    "from sklearn.model_selection import train_test_split"
   ]
  },
  {
   "cell_type": "code",
   "execution_count": 52,
   "id": "8153ee4a",
   "metadata": {},
   "outputs": [],
   "source": [
    "from sklearn.neural_network import  MLPClassifier"
   ]
  },
  {
   "cell_type": "code",
   "execution_count": null,
   "id": "6b749273",
   "metadata": {},
   "outputs": [],
   "source": []
  },
  {
   "cell_type": "code",
   "execution_count": 53,
   "id": "7d243cd4",
   "metadata": {},
   "outputs": [],
   "source": [
    "x_train, x_test, y_train, y_test = train_test_split(x_scaled ,  y ,  test_size=0.25 , random_state=42)"
   ]
  },
  {
   "cell_type": "code",
   "execution_count": 60,
   "id": "a4c5cbef",
   "metadata": {},
   "outputs": [
    {
     "data": {
      "text/plain": [
       "(42592, 11)"
      ]
     },
     "execution_count": 60,
     "metadata": {},
     "output_type": "execute_result"
    }
   ],
   "source": [
    "x_test.shape"
   ]
  },
  {
   "cell_type": "code",
   "execution_count": 24,
   "id": "34f35864",
   "metadata": {},
   "outputs": [],
   "source": [
    "from sklearn.metrics import accuracy_score"
   ]
  },
  {
   "cell_type": "code",
   "execution_count": 25,
   "id": "3a7ca92e",
   "metadata": {},
   "outputs": [
    {
     "name": "stdout",
     "output_type": "stream",
     "text": [
      "score=0.9867345980465815\n"
     ]
    }
   ],
   "source": [
    "# avec une seule couche\n",
    "clf1 = MLPClassifier(hidden_layer_sizes=(8, ), activation='logistic', alpha=1e-4,\n",
    "                    solver='lbfgs', tol=1e-4, random_state=1,\n",
    "                    learning_rate_init=.1, verbose=False, max_iter=5000)\n",
    "\n",
    "clf1.fit(x, y)\n",
    "y_pred1 = clf1.predict(x_test)\n",
    "print('score='+str(accuracy_score(y_test,y_pred1))) "
   ]
  },
  {
   "cell_type": "code",
   "execution_count": 26,
   "id": "e91f5ea1",
   "metadata": {},
   "outputs": [
    {
     "name": "stdout",
     "output_type": "stream",
     "text": [
      "score=0.9867345980465815\n"
     ]
    }
   ],
   "source": [
    "# avec deux couches\n",
    "clf2 = MLPClassifier(hidden_layer_sizes=(8, 16), activation='logistic', alpha=1e-4,\n",
    "                    solver='sgd', tol=1e-4, random_state=1,\n",
    "                    learning_rate_init=.1, verbose=False)\n",
    "\n",
    "clf2.fit(x, y)\n",
    "y_pred2 = clf2.predict(x_test)\n",
    "print('score='+str(accuracy_score(y_test,y_pred2)))"
   ]
  },
  {
   "cell_type": "code",
   "execution_count": 28,
   "id": "88a5cd93",
   "metadata": {},
   "outputs": [
    {
     "name": "stdout",
     "output_type": "stream",
     "text": [
      "score=0.9867345980465815\n"
     ]
    }
   ],
   "source": [
    "# avec trois couche\n",
    "clf3 = MLPClassifier(hidden_layer_sizes=(8, 16, 30), activation='logistic', alpha=1e-4,\n",
    "                    solver='lbfgs', tol=1e-4, random_state=1,\n",
    "                    learning_rate_init=.1, verbose=False, max_iter=5000)\n",
    "\n",
    "clf3.fit(x, y)\n",
    "y_pred3 = clf3.predict(x_test)\n",
    "print('score='+str(accuracy_score(y_test,y_pred3)))"
   ]
  },
  {
   "cell_type": "code",
   "execution_count": 29,
   "id": "935ca14b",
   "metadata": {},
   "outputs": [],
   "source": [
    "dataset1=pd.read_csv('Friday-WorkingHours-Morning.pcap_ISCX.csv')"
   ]
  },
  {
   "cell_type": "code",
   "execution_count": 38,
   "id": "dcd4d32b",
   "metadata": {},
   "outputs": [],
   "source": [
    "xt,yt=dataset1[[' Destination Port', ' Flow Duration', ' Total Fwd Packets',\n",
    "       ' Total Backward Packets', 'Total Length of Fwd Packets',\n",
    "       ' Total Length of Bwd Packets', ' Fwd Packet Length Max',\n",
    "       ' Fwd Packet Length Min', ' Fwd Packet Length Mean',\n",
    "       ' Fwd Packet Length Std', 'Bwd Packet Length Max',]],dataset1[columns[-1]]"
   ]
  },
  {
   "cell_type": "code",
   "execution_count": 39,
   "id": "fcb1983d",
   "metadata": {},
   "outputs": [],
   "source": [
    "xt_scaled=mms.fit_transform(xt)"
   ]
  },
  {
   "cell_type": "code",
   "execution_count": 44,
   "id": "b5b32fcc",
   "metadata": {},
   "outputs": [
    {
     "name": "stdout",
     "output_type": "stream",
     "text": [
      "Accuracy avec une seule couche: 98.9708584380709\n",
      "Accuracy avec deux couche: 98.9708584380709\n",
      "Accuracy avec trois couche: 98.9708584380709\n"
     ]
    }
   ],
   "source": [
    "print('Accuracy avec une seule couche:',accuracy_score(clf1.predict(xt),yt)*100)\n",
    "print('Accuracy avec deux couche:',accuracy_score(clf2.predict(xt),yt)*100)\n",
    "print('Accuracy avec trois couche:',accuracy_score(clf3.predict(xt),yt)*100)"
   ]
  },
  {
   "cell_type": "code",
   "execution_count": null,
   "id": "7d2f79e8",
   "metadata": {},
   "outputs": [],
   "source": []
  }
 ],
 "metadata": {
  "kernelspec": {
   "display_name": "Python 3",
   "language": "python",
   "name": "python3"
  },
  "language_info": {
   "codemirror_mode": {
    "name": "ipython",
    "version": 3
   },
   "file_extension": ".py",
   "mimetype": "text/x-python",
   "name": "python",
   "nbconvert_exporter": "python",
   "pygments_lexer": "ipython3",
   "version": "3.8.8"
  }
 },
 "nbformat": 4,
 "nbformat_minor": 5
}
